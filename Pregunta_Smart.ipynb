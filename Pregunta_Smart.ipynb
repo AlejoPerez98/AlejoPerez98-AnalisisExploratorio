{
 "cells": [
  {
   "cell_type": "code",
   "execution_count": 1,
   "metadata": {},
   "outputs": [
    {
     "ename": "SyntaxError",
     "evalue": "incomplete input (3896638064.py, line 1)",
     "output_type": "error",
     "traceback": [
      "\u001b[1;36m  Cell \u001b[1;32mIn[1], line 1\u001b[1;36m\u001b[0m\n\u001b[1;33m    \"\"\"Créditos Parra es una distribuidora de artículos en el departamento del Amazonas. Actualmente, la empresa está iniciando una transición hacia la analítica de datos para mejorar el control y la eficiencia en sus procesos. Uno de los principales problemas identificados es el alto porcentaje de cartera vencida, que promedia el 46%. Este problema puede ser abordado mediante técnicas de ciencia de datos e inteligencia artificial (IA), que permitirán organizar la información, descubrir patrones, visualizar datos y predecir riesgos y oportunidades, facilitando la toma de decisiones y la automatización de procesos.\u001b[0m\n\u001b[1;37m    ^\u001b[0m\n\u001b[1;31mSyntaxError\u001b[0m\u001b[1;31m:\u001b[0m incomplete input\n"
     ]
    }
   ],
   "source": [
    "\"\"\"\n",
    "Créditos Parra es una distribuidora de artículos en el departamento del Amazonas. Actualmente, la empresa está iniciando una transición hacia la \n",
    "analítica de datos para mejorar el control y la eficiencia en sus procesos. Uno de los principales problemas identificados es el alto porcentaje \n",
    "de cartera vencida, que promedia el 46%. Este problema puede ser abordado mediante técnicas de ciencia de datos e inteligencia artificial (IA), \n",
    "que permitirán organizar la información, descubrir patrones, visualizar datos y predecir riesgos y oportunidades, facilitando la toma de \n",
    "decisiones y la automatización de procesos.\n",
    "\n",
    "¿Cuáles son los clientes que tienen una alta probabilidad de continuar o iniciar con cartera vencida en los meses restantes del 2024?\n",
    "\"\"\"\n"
   ]
  }
 ],
 "metadata": {
  "kernelspec": {
   "display_name": "Python 3",
   "language": "python",
   "name": "python3"
  },
  "language_info": {
   "codemirror_mode": {
    "name": "ipython",
    "version": 3
   },
   "file_extension": ".py",
   "mimetype": "text/x-python",
   "name": "python",
   "nbconvert_exporter": "python",
   "pygments_lexer": "ipython3",
   "version": "3.12.5"
  }
 },
 "nbformat": 4,
 "nbformat_minor": 2
}
