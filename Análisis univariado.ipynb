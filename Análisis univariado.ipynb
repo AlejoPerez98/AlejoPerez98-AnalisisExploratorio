{
 "cells": [
  {
   "cell_type": "markdown",
   "metadata": {},
   "source": [
    "## Importar librerías"
   ]
  },
  {
   "cell_type": "code",
   "execution_count": 1,
   "metadata": {},
   "outputs": [],
   "source": [
    "import pandas as pd\n",
    "from datetime import datetime\n",
    "\n",
    "import matplotlib.pyplot as plt\n",
    "import seaborn as sns\n",
    "import matplotlib.ticker as ticker"
   ]
  },
  {
   "cell_type": "markdown",
   "metadata": {},
   "source": [
    "#### Carga base de datos"
   ]
  },
  {
   "cell_type": "code",
   "execution_count": 2,
   "metadata": {},
   "outputs": [],
   "source": [
    "# Ruta de la carpeta que contiene los archivos\n",
    "ruta = r'C:\\Users\\Aleja\\OneDrive\\Escritorio\\Cartera\\Proyecto - Análisis exploratorio\\Proyección de Vencimientos 30062024.xlsx'\n",
    "\n",
    "# Concatenar todos los DataFrames en uno solo\n",
    "df = pd.read_excel(ruta)"
   ]
  },
  {
   "cell_type": "code",
   "execution_count": 3,
   "metadata": {},
   "outputs": [],
   "source": [
    "#Organizar por código\n",
    "df = df.sort_values(by=\"codigo\")"
   ]
  },
  {
   "cell_type": "code",
   "execution_count": 4,
   "metadata": {},
   "outputs": [
    {
     "name": "stdout",
     "output_type": "stream",
     "text": [
      "            codigo                       nombre   cu     documento  \\\n",
      "465  00120043775-2  DILSON DE SOUZA, NASCIMENTO  1.0  FC-000686-04   \n",
      "464  00120043775-2  DILSON DE SOUZA, NASCIMENTO  1.0  FC-000686-03   \n",
      "463  00120043775-2  DILSON DE SOUZA, NASCIMENTO  1.0  FC-000686-02   \n",
      "417    01229757236       DA SILVA GUIDA, ANDREA  1.0  FE-024916-03   \n",
      "416    01229757236       DA SILVA GUIDA, ANDREA  1.0  FE-024916-02   \n",
      "\n",
      "         fec_ela     fec_vcto  dias_vcto  sin_vencer  _01_30  _31_60  _61_90  \\\n",
      "465  2022-DIC-31  2018-JUL-22       2170           0       0       0       0   \n",
      "464  2022-DIC-31  2018-JUN-22       2200           0       0       0       0   \n",
      "463  2022-DIC-31  2018-MAY-22       2231           0       0       0       0   \n",
      "417  2024-JUN-29  2024-SEP-15        -77      339000       0       0       0   \n",
      "416  2024-JUN-29  2024-AGO-15        -46      339000       0       0       0   \n",
      "\n",
      "     mas_de_90  vend_tmp    total  \n",
      "465     125000       NaN   375000  \n",
      "464     125000       NaN        0  \n",
      "463     125000       NaN        0  \n",
      "417          0      71.0  1063000  \n",
      "416          0      71.0        0  \n"
     ]
    }
   ],
   "source": [
    "# Mostrar las primeras filas del DataFrame combinado\n",
    "print(df.head(5))"
   ]
  },
  {
   "cell_type": "code",
   "execution_count": 5,
   "metadata": {},
   "outputs": [
    {
     "name": "stdout",
     "output_type": "stream",
     "text": [
      "     codigo                               nombre  cu documento fec_ela  \\\n",
      "1761    NaN                                  NaN NaN       NaN     NaN   \n",
      "1762    NaN  Empresa:CREDITOS PARRA Y CIA S.A.S. NaN       NaN     NaN   \n",
      "1763    NaN  Cuenta:130515   Cartera de clientes NaN       NaN     NaN   \n",
      "1764    NaN                              General NaN       NaN     NaN   \n",
      "1765    NaN               2024.08.06 04:11:35 PM NaN       NaN     NaN   \n",
      "\n",
      "     fec_vcto  dias_vcto  sin_vencer  _01_30  _31_60  _61_90  mas_de_90  \\\n",
      "1761      NaN          0           0       0       0       0          0   \n",
      "1762      NaN          0           0       0       0       0          0   \n",
      "1763      NaN          0           0       0       0       0          0   \n",
      "1764      NaN          0           0       0       0       0          0   \n",
      "1765      NaN          0           0       0       0       0          0   \n",
      "\n",
      "      vend_tmp  total  \n",
      "1761       NaN      0  \n",
      "1762       NaN      0  \n",
      "1763       NaN      0  \n",
      "1764       NaN      0  \n",
      "1765       NaN      0  \n"
     ]
    }
   ],
   "source": [
    "# Mostrar las últimas filas filas del DataFrame combinado\n",
    "print(df.tail(5))"
   ]
  },
  {
   "cell_type": "code",
   "execution_count": 6,
   "metadata": {},
   "outputs": [
    {
     "name": "stdout",
     "output_type": "stream",
     "text": [
      "<class 'pandas.core.frame.DataFrame'>\n",
      "Index: 1766 entries, 465 to 1765\n",
      "Data columns (total 14 columns):\n",
      " #   Column      Non-Null Count  Dtype  \n",
      "---  ------      --------------  -----  \n",
      " 0   codigo      1431 non-null   object \n",
      " 1   nombre      1436 non-null   object \n",
      " 2   cu          1431 non-null   float64\n",
      " 3   documento   1431 non-null   object \n",
      " 4   fec_ela     1431 non-null   object \n",
      " 5   fec_vcto    1431 non-null   object \n",
      " 6   dias_vcto   1766 non-null   int64  \n",
      " 7   sin_vencer  1766 non-null   int64  \n",
      " 8   _01_30      1766 non-null   int64  \n",
      " 9   _31_60      1766 non-null   int64  \n",
      " 10  _61_90      1766 non-null   int64  \n",
      " 11  mas_de_90   1766 non-null   int64  \n",
      " 12  vend_tmp    1084 non-null   float64\n",
      " 13  total       1766 non-null   int64  \n",
      "dtypes: float64(2), int64(7), object(5)\n",
      "memory usage: 207.0+ KB\n"
     ]
    }
   ],
   "source": [
    "# Visualizar estructura del dataframe\n",
    "df.info()"
   ]
  },
  {
   "cell_type": "code",
   "execution_count": 7,
   "metadata": {},
   "outputs": [],
   "source": [
    "# Eliminar columnas innecesarias\n",
    "df = df.drop(columns=['nombre', 'cu', 'vend_tmp'], index=1)"
   ]
  },
  {
   "cell_type": "code",
   "execution_count": 8,
   "metadata": {},
   "outputs": [
    {
     "name": "stdout",
     "output_type": "stream",
     "text": [
      "<class 'pandas.core.frame.DataFrame'>\n",
      "Index: 1765 entries, 465 to 1765\n",
      "Data columns (total 11 columns):\n",
      " #   Column      Non-Null Count  Dtype \n",
      "---  ------      --------------  ----- \n",
      " 0   codigo      1431 non-null   object\n",
      " 1   documento   1431 non-null   object\n",
      " 2   fec_ela     1431 non-null   object\n",
      " 3   fec_vcto    1431 non-null   object\n",
      " 4   dias_vcto   1765 non-null   int64 \n",
      " 5   sin_vencer  1765 non-null   int64 \n",
      " 6   _01_30      1765 non-null   int64 \n",
      " 7   _31_60      1765 non-null   int64 \n",
      " 8   _61_90      1765 non-null   int64 \n",
      " 9   mas_de_90   1765 non-null   int64 \n",
      " 10  total       1765 non-null   int64 \n",
      "dtypes: int64(7), object(4)\n",
      "memory usage: 165.5+ KB\n"
     ]
    }
   ],
   "source": [
    "# Visualizar estructura del dataframe\n",
    "df.info()"
   ]
  },
  {
   "cell_type": "code",
   "execution_count": 9,
   "metadata": {},
   "outputs": [
    {
     "data": {
      "text/plain": [
       "codigo        334\n",
       "documento     334\n",
       "fec_ela       334\n",
       "fec_vcto      334\n",
       "dias_vcto       0\n",
       "sin_vencer      0\n",
       "_01_30          0\n",
       "_31_60          0\n",
       "_61_90          0\n",
       "mas_de_90       0\n",
       "total           0\n",
       "dtype: int64"
      ]
     },
     "execution_count": 9,
     "metadata": {},
     "output_type": "execute_result"
    }
   ],
   "source": [
    "# Ver na por columna\n",
    "df.isna().sum()"
   ]
  },
  {
   "cell_type": "code",
   "execution_count": 10,
   "metadata": {},
   "outputs": [],
   "source": [
    "# Eliminar n/a\n",
    "df = df.dropna()"
   ]
  },
  {
   "cell_type": "code",
   "execution_count": 11,
   "metadata": {},
   "outputs": [
    {
     "data": {
      "text/plain": [
       "codigo        0\n",
       "documento     0\n",
       "fec_ela       0\n",
       "fec_vcto      0\n",
       "dias_vcto     0\n",
       "sin_vencer    0\n",
       "_01_30        0\n",
       "_31_60        0\n",
       "_61_90        0\n",
       "mas_de_90     0\n",
       "total         0\n",
       "dtype: int64"
      ]
     },
     "execution_count": 11,
     "metadata": {},
     "output_type": "execute_result"
    }
   ],
   "source": [
    "# Ver na por columna\n",
    "df.isna().sum()"
   ]
  },
  {
   "cell_type": "code",
   "execution_count": 12,
   "metadata": {},
   "outputs": [
    {
     "data": {
      "text/plain": [
       "total\n",
       "0          1104\n",
       "900000        3\n",
       "238000        3\n",
       "280000        3\n",
       "836000        2\n",
       "           ... \n",
       "2328300       1\n",
       "2798000       1\n",
       "925000        1\n",
       "3398000       1\n",
       "888000        1\n",
       "Name: count, Length: 300, dtype: int64"
      ]
     },
     "execution_count": 12,
     "metadata": {},
     "output_type": "execute_result"
    }
   ],
   "source": [
    "# Revisar distribución\n",
    "df['total'].value_counts()"
   ]
  },
  {
   "cell_type": "code",
   "execution_count": 13,
   "metadata": {},
   "outputs": [
    {
     "data": {
      "text/plain": [
       "total\n",
       "900000     3\n",
       "238000     3\n",
       "280000     3\n",
       "836000     2\n",
       "394000     2\n",
       "          ..\n",
       "2328300    1\n",
       "2798000    1\n",
       "925000     1\n",
       "3398000    1\n",
       "375000     1\n",
       "Name: count, Length: 299, dtype: int64"
      ]
     },
     "execution_count": 13,
     "metadata": {},
     "output_type": "execute_result"
    }
   ],
   "source": [
    "# Eliminar valores en 0\n",
    "df = df.loc[df['total'] != 0]\n",
    "df['total'].value_counts()"
   ]
  },
  {
   "cell_type": "code",
   "execution_count": 14,
   "metadata": {},
   "outputs": [
    {
     "data": {
      "image/png": "[encoded data removed]",
      "text/plain": [
       "<Figure size 640x480 with 1 Axes>"
      ]
     },
     "metadata": {},
     "output_type": "display_data"
    }
   ],
   "source": [
    "sns.boxplot(x=df['total'])\n",
    "plt.title('Distribución de la Deuda Total')\n",
    "# Configurar el formato del eje x para mostrar valores en formato normal\n",
    "plt.gca().xaxis.set_major_formatter(ticker.FuncFormatter(lambda x, _: f'{int(x):,}'))\n",
    "# Asegurarse de que las etiquetas del eje x sean horizontales\n",
    "plt.xticks(rotation=90)\n",
    "plt.show()"
   ]
  },
  {
   "cell_type": "code",
   "execution_count": 15,
   "metadata": {},
   "outputs": [
    {
     "data": {
      "image/png": "[encoded data removed]",
      "text/plain": [
       "<Figure size 640x480 with 1 Axes>"
      ]
     },
     "metadata": {},
     "output_type": "display_data"
    }
   ],
   "source": [
    "sns.histplot(df['total'], kde=True, bins=30)\n",
    "plt.title('Histograma y KDE de la Deuda Total')\n",
    "plt.xlabel('Deuda Total')\n",
    "plt.ylabel('Frecuencia')\n",
    "# Configurar el formato del eje x para mostrar valores en formato normal\n",
    "plt.gca().xaxis.set_major_formatter(ticker.FuncFormatter(lambda x, _: f'{int(x):,}'))\n",
    "# Asegurarse de que las etiquetas del eje x sean horizontales\n",
    "plt.xticks(rotation=90)\n",
    "plt.show()"
   ]
  },
  {
   "cell_type": "code",
   "execution_count": 16,
   "metadata": {},
   "outputs": [
    {
     "data": {
      "image/png": "[encoded data removed]",
      "text/plain": [
       "<Figure size 640x480 with 1 Axes>"
      ]
     },
     "metadata": {},
     "output_type": "display_data"
    }
   ],
   "source": [
    "sns.violinplot(x=df['total'])\n",
    "plt.title('Violin Plot de la Deuda Total')\n",
    "# Configurar el formato del eje x para mostrar valores en formato normal\n",
    "plt.gca().xaxis.set_major_formatter(ticker.FuncFormatter(lambda x, _: f'{int(x):,}'))\n",
    "# Asegurarse de que las etiquetas del eje x sean horizontales\n",
    "plt.xticks(rotation=90)\n",
    "plt.show()"
   ]
  },
  {
   "cell_type": "code",
   "execution_count": 17,
   "metadata": {},
   "outputs": [
    {
     "name": "stdout",
     "output_type": "stream",
     "text": [
      "Outliers detectados: 34\n"
     ]
    }
   ],
   "source": [
    "Q1 = df['total'].quantile(0.25)\n",
    "Q3 = df['total'].quantile(0.75)\n",
    "IQR = Q3 - Q1\n",
    "\n",
    "outliers = df[(df['total'] < (Q1 - 1.5 * IQR)) | (df['total'] > (Q3 + 1.5 * IQR))]\n",
    "print(f\"Outliers detectados: {len(outliers)}\")"
   ]
  },
  {
   "cell_type": "code",
   "execution_count": 18,
   "metadata": {},
   "outputs": [
    {
     "name": "stdout",
     "output_type": "stream",
     "text": [
      "Mediana: 836000.0\n"
     ]
    }
   ],
   "source": [
    "mediana = df['total'].median()\n",
    "print(f\"Mediana: {mediana}\")"
   ]
  },
  {
   "cell_type": "code",
   "execution_count": 19,
   "metadata": {},
   "outputs": [
    {
     "name": "stdout",
     "output_type": "stream",
     "text": [
      "Varianza: 105034663607404.45, Desviación Estándar: 10248642.037236175\n"
     ]
    }
   ],
   "source": [
    "varianza = df['total'].var()\n",
    "desviacion_estandar = df['total'].std()\n",
    "print(f\"Varianza: {varianza}, Desviación Estándar: {desviacion_estandar}\")"
   ]
  },
  {
   "cell_type": "code",
   "execution_count": 20,
   "metadata": {},
   "outputs": [
    {
     "name": "stdout",
     "output_type": "stream",
     "text": [
      "Coeficiente de Variación: 3.9116991049586916\n"
     ]
    }
   ],
   "source": [
    "coef_var = df['total'].std() / df['total'].mean()\n",
    "print(f\"Coeficiente de Variación: {coef_var}\")"
   ]
  },
  {
   "cell_type": "code",
   "execution_count": 21,
   "metadata": {},
   "outputs": [
    {
     "name": "stdout",
     "output_type": "stream",
     "text": [
      "Asimetría: 11.667714588550378\n"
     ]
    }
   ],
   "source": [
    "asimetria = df['total'].skew()\n",
    "print(f\"Asimetría: {asimetria}\")"
   ]
  }
 ],
 "metadata": {
  "kernelspec": {
   "display_name": "Python 3",
   "language": "python",
   "name": "python3"
  },
  "language_info": {
   "codemirror_mode": {
    "name": "ipython",
    "version": 3
   },
   "file_extension": ".py",
   "mimetype": "text/x-python",
   "name": "python",
   "nbconvert_exporter": "python",
   "pygments_lexer": "ipython3",
   "version": "3.12.5"
  }
 },
 "nbformat": 4,
 "nbformat_minor": 2
}
